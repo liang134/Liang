{
 "cells": [
  {
   "cell_type": "code",
   "execution_count": 1,
   "metadata": {},
   "outputs": [],
   "source": [
    "# wOBA\n",
    "def woba(batting_mlb):\n",
    "    Batters = batting_mlb;\n",
    "    ABH     = np.array(Batters['AB'])+np.array(Batters['BB'])-np.array(Batters['IBB'])+np.array(Batters['SF'])+np.array(Batters['HBP'])\n",
    "    hBH     = (.69*(np.array(Batters['BB'])-np.array(Batters['IBB'])))+.72*np.array(Batters['HBP'])+.88*(np.array(Batters['H'])-np.array(Batters['2B'])-np.array(Batters['3B'])-np.array(Batters['HR']))+1.247*np.array(Batters['2B'])+1.578*np.array(Batters['3B'])+2.301*np.array(Batters['HR'])\n",
    "    woba      = np.nan_to_num(hBH/ABH)\n",
    "    return woba"
   ]
  },
  {
   "cell_type": "code",
   "execution_count": 2,
   "metadata": {},
   "outputs": [],
   "source": [
    "# SLG = TB/AB\n",
    "def slg(batting_mlb):\n",
    "    Batters = batting_mlb;\n",
    "    TB      = np.array(Batters['H'])+np.array(Batters['2B'])+2*np.array(Batters['3B'])+3*np.array(Batters['HR'])\n",
    "    tb      = TB/np.array(Batters['AB'])\n",
    "    return tb"
   ]
  },
  {
   "cell_type": "code",
   "execution_count": 3,
   "metadata": {},
   "outputs": [],
   "source": [
    "# OBP = H+BB+HBP/AB+BB+SF+HBP\n",
    "def obp(batting_mlb):\n",
    "    Batters = batting_mlb;\n",
    "    obp = (np.array(Batters['H'])+np.array(Batters['HBP'])+np.array(Batters['BB']))/(np.array(Batters['AB'])+np.array(Batters['BB'])+np.array(Batters['SF'])+np.array(Batters['HBP']))\n",
    "    return obp"
   ]
  },
  {
   "cell_type": "code",
   "execution_count": 4,
   "metadata": {},
   "outputs": [],
   "source": [
    "# Runs Created\n",
    "def runs_created(batting_mlb):\n",
    "    Batters = batting_mlb;\n",
    "    ABH     = np.array(Batters['AB'])+np.array(Batters['BB'])+np.array(Batters['HBP'])\n",
    "    hBH     = np.array(Batters['BB'])+np.array(Batters['HBP'])+np.array(Batters['H'])\n",
    "    TB      = np.array(Batters['H'])+np.array(Batters['2B'])+2*np.array(Batters['3B'])+3*np.array(Batters['HR'])\n",
    "    RC      = (np.nan_to_num(hBH.T*TB/ABH))\n",
    "    return RC"
   ]
  },
  {
   "cell_type": "code",
   "execution_count": 5,
   "metadata": {},
   "outputs": [],
   "source": [
    "# AVG\n",
    "def avg(batting_mlb):\n",
    "    Batters = batting_mlb;\n",
    "    H = np.array(Batters['H']);\n",
    "    AB = np.array(Batters['AB']);\n",
    "    AVG = H/AB;\n",
    "    return AVG"
   ]
  },
  {
   "cell_type": "code",
   "execution_count": 1,
   "metadata": {},
   "outputs": [],
   "source": [
    "import numpy as np \n",
    "import pandas as pd\n",
    "import matplotlib.pyplot as plt\n",
    "import seaborn as sns\n",
    "import scipy \n",
    "from sklearn.cluster import KMeans\n",
    "from sklearn.preprocessing import MinMaxScaler,StandardScaler"
   ]
  },
  {
   "cell_type": "code",
   "execution_count": null,
   "metadata": {},
   "outputs": [],
   "source": []
  },
  {
   "cell_type": "code",
   "execution_count": null,
   "metadata": {},
   "outputs": [],
   "source": []
  },
  {
   "cell_type": "code",
   "execution_count": null,
   "metadata": {},
   "outputs": [],
   "source": []
  },
  {
   "cell_type": "code",
   "execution_count": null,
   "metadata": {},
   "outputs": [],
   "source": []
  },
  {
   "cell_type": "code",
   "execution_count": null,
   "metadata": {},
   "outputs": [],
   "source": []
  },
  {
   "cell_type": "code",
   "execution_count": 7,
   "metadata": {},
   "outputs": [],
   "source": [
    "batting_data = pd.read_csv('cud_.csv').drop_duplicates(subset=['playerID','yearID'])\n",
    "batting_data = batting_data.drop(['Unnamed: 0','playerID','teamID','lgID','salary_rank','yearID'],axis=1)"
   ]
  },
  {
   "cell_type": "code",
   "execution_count": 8,
   "metadata": {},
   "outputs": [],
   "source": [
    "batting_data['woba']=woba(batting_data)\n",
    "batting_data['slg']=slg(batting_data)\n",
    "batting_data['obp']=obp(batting_data)\n",
    "batting_data['rc']=runs_created(batting_data)\n",
    "batting_data['avg']=avg(batting_data)"
   ]
  },
  {
   "cell_type": "code",
   "execution_count": 9,
   "metadata": {
    "scrolled": false
   },
   "outputs": [
    {
     "data": {
      "text/html": [
       "<div>\n",
       "<style scoped>\n",
       "    .dataframe tbody tr th:only-of-type {\n",
       "        vertical-align: middle;\n",
       "    }\n",
       "\n",
       "    .dataframe tbody tr th {\n",
       "        vertical-align: top;\n",
       "    }\n",
       "\n",
       "    .dataframe thead th {\n",
       "        text-align: right;\n",
       "    }\n",
       "</style>\n",
       "<table border=\"1\" class=\"dataframe\">\n",
       "  <thead>\n",
       "    <tr style=\"text-align: right;\">\n",
       "      <th></th>\n",
       "      <th>stint</th>\n",
       "      <th>G</th>\n",
       "      <th>AB</th>\n",
       "      <th>R</th>\n",
       "      <th>H</th>\n",
       "      <th>2B</th>\n",
       "      <th>3B</th>\n",
       "      <th>HR</th>\n",
       "      <th>RBI</th>\n",
       "      <th>SB</th>\n",
       "      <th>...</th>\n",
       "      <th>SH</th>\n",
       "      <th>SF</th>\n",
       "      <th>GIDP</th>\n",
       "      <th>salary</th>\n",
       "      <th>age</th>\n",
       "      <th>woba</th>\n",
       "      <th>slg</th>\n",
       "      <th>obp</th>\n",
       "      <th>rc</th>\n",
       "      <th>avg</th>\n",
       "    </tr>\n",
       "  </thead>\n",
       "  <tbody>\n",
       "    <tr>\n",
       "      <th>0</th>\n",
       "      <td>1</td>\n",
       "      <td>77</td>\n",
       "      <td>195</td>\n",
       "      <td>18</td>\n",
       "      <td>42</td>\n",
       "      <td>9</td>\n",
       "      <td>0</td>\n",
       "      <td>7</td>\n",
       "      <td>22</td>\n",
       "      <td>3</td>\n",
       "      <td>...</td>\n",
       "      <td>2</td>\n",
       "      <td>0</td>\n",
       "      <td>4</td>\n",
       "      <td>220000</td>\n",
       "      <td>19</td>\n",
       "      <td>0.292594</td>\n",
       "      <td>0.369231</td>\n",
       "      <td>0.278302</td>\n",
       "      <td>20.037736</td>\n",
       "      <td>0.215385</td>\n",
       "    </tr>\n",
       "    <tr>\n",
       "      <th>1</th>\n",
       "      <td>2</td>\n",
       "      <td>229</td>\n",
       "      <td>733</td>\n",
       "      <td>102</td>\n",
       "      <td>190</td>\n",
       "      <td>36</td>\n",
       "      <td>5</td>\n",
       "      <td>22</td>\n",
       "      <td>89</td>\n",
       "      <td>21</td>\n",
       "      <td>...</td>\n",
       "      <td>6</td>\n",
       "      <td>5</td>\n",
       "      <td>8</td>\n",
       "      <td>1000000</td>\n",
       "      <td>20</td>\n",
       "      <td>0.327301</td>\n",
       "      <td>0.412005</td>\n",
       "      <td>0.333333</td>\n",
       "      <td>101.282742</td>\n",
       "      <td>0.259209</td>\n",
       "    </tr>\n",
       "    <tr>\n",
       "      <th>2</th>\n",
       "      <td>3</td>\n",
       "      <td>367</td>\n",
       "      <td>1243</td>\n",
       "      <td>173</td>\n",
       "      <td>338</td>\n",
       "      <td>66</td>\n",
       "      <td>7</td>\n",
       "      <td>42</td>\n",
       "      <td>174</td>\n",
       "      <td>33</td>\n",
       "      <td>...</td>\n",
       "      <td>9</td>\n",
       "      <td>9</td>\n",
       "      <td>21</td>\n",
       "      <td>1250000</td>\n",
       "      <td>21</td>\n",
       "      <td>0.344116</td>\n",
       "      <td>0.437651</td>\n",
       "      <td>0.344333</td>\n",
       "      <td>188.534296</td>\n",
       "      <td>0.271923</td>\n",
       "    </tr>\n",
       "    <tr>\n",
       "      <th>3</th>\n",
       "      <td>4</td>\n",
       "      <td>493</td>\n",
       "      <td>1718</td>\n",
       "      <td>232</td>\n",
       "      <td>464</td>\n",
       "      <td>88</td>\n",
       "      <td>11</td>\n",
       "      <td>55</td>\n",
       "      <td>234</td>\n",
       "      <td>46</td>\n",
       "      <td>...</td>\n",
       "      <td>11</td>\n",
       "      <td>14</td>\n",
       "      <td>30</td>\n",
       "      <td>2800000</td>\n",
       "      <td>22</td>\n",
       "      <td>0.336855</td>\n",
       "      <td>0.430151</td>\n",
       "      <td>0.335081</td>\n",
       "      <td>249.456418</td>\n",
       "      <td>0.270081</td>\n",
       "    </tr>\n",
       "    <tr>\n",
       "      <th>4</th>\n",
       "      <td>5</td>\n",
       "      <td>652</td>\n",
       "      <td>2305</td>\n",
       "      <td>302</td>\n",
       "      <td>615</td>\n",
       "      <td>114</td>\n",
       "      <td>16</td>\n",
       "      <td>76</td>\n",
       "      <td>309</td>\n",
       "      <td>53</td>\n",
       "      <td>...</td>\n",
       "      <td>12</td>\n",
       "      <td>20</td>\n",
       "      <td>47</td>\n",
       "      <td>3700000</td>\n",
       "      <td>23</td>\n",
       "      <td>0.332566</td>\n",
       "      <td>0.429067</td>\n",
       "      <td>0.327037</td>\n",
       "      <td>326.005157</td>\n",
       "      <td>0.266811</td>\n",
       "    </tr>\n",
       "  </tbody>\n",
       "</table>\n",
       "<p>5 rows × 25 columns</p>\n",
       "</div>"
      ],
      "text/plain": [
       "   stint    G    AB    R    H   2B  3B  HR  RBI  SB  ...  SH  SF  GIDP  \\\n",
       "0      1   77   195   18   42    9   0   7   22   3  ...   2   0     4   \n",
       "1      2  229   733  102  190   36   5  22   89  21  ...   6   5     8   \n",
       "2      3  367  1243  173  338   66   7  42  174  33  ...   9   9    21   \n",
       "3      4  493  1718  232  464   88  11  55  234  46  ...  11  14    30   \n",
       "4      5  652  2305  302  615  114  16  76  309  53  ...  12  20    47   \n",
       "\n",
       "    salary  age      woba       slg       obp          rc       avg  \n",
       "0   220000   19  0.292594  0.369231  0.278302   20.037736  0.215385  \n",
       "1  1000000   20  0.327301  0.412005  0.333333  101.282742  0.259209  \n",
       "2  1250000   21  0.344116  0.437651  0.344333  188.534296  0.271923  \n",
       "3  2800000   22  0.336855  0.430151  0.335081  249.456418  0.270081  \n",
       "4  3700000   23  0.332566  0.429067  0.327037  326.005157  0.266811  \n",
       "\n",
       "[5 rows x 25 columns]"
      ]
     },
     "execution_count": 9,
     "metadata": {},
     "output_type": "execute_result"
    }
   ],
   "source": [
    "batting_data.head()"
   ]
  },
  {
   "cell_type": "code",
   "execution_count": 10,
   "metadata": {
    "scrolled": true
   },
   "outputs": [
    {
     "data": {
      "text/html": [
       "<div>\n",
       "<style scoped>\n",
       "    .dataframe tbody tr th:only-of-type {\n",
       "        vertical-align: middle;\n",
       "    }\n",
       "\n",
       "    .dataframe tbody tr th {\n",
       "        vertical-align: top;\n",
       "    }\n",
       "\n",
       "    .dataframe thead th {\n",
       "        text-align: right;\n",
       "    }\n",
       "</style>\n",
       "<table border=\"1\" class=\"dataframe\">\n",
       "  <thead>\n",
       "    <tr style=\"text-align: right;\">\n",
       "      <th></th>\n",
       "      <th>count</th>\n",
       "      <th>mean</th>\n",
       "      <th>std</th>\n",
       "      <th>min</th>\n",
       "      <th>25%</th>\n",
       "      <th>50%</th>\n",
       "      <th>75%</th>\n",
       "      <th>max</th>\n",
       "    </tr>\n",
       "  </thead>\n",
       "  <tbody>\n",
       "    <tr>\n",
       "      <th>stint</th>\n",
       "      <td>1630.0</td>\n",
       "      <td>4.882822e+00</td>\n",
       "      <td>2.862151e+00</td>\n",
       "      <td>1.0</td>\n",
       "      <td>3.000000</td>\n",
       "      <td>5.000000e+00</td>\n",
       "      <td>6.750000e+00</td>\n",
       "      <td>1.800000e+01</td>\n",
       "    </tr>\n",
       "    <tr>\n",
       "      <th>G</th>\n",
       "      <td>1630.0</td>\n",
       "      <td>4.883656e+02</td>\n",
       "      <td>3.766054e+02</td>\n",
       "      <td>2.0</td>\n",
       "      <td>198.000000</td>\n",
       "      <td>4.205000e+02</td>\n",
       "      <td>6.890000e+02</td>\n",
       "      <td>2.567000e+03</td>\n",
       "    </tr>\n",
       "    <tr>\n",
       "      <th>AB</th>\n",
       "      <td>1630.0</td>\n",
       "      <td>1.694816e+03</td>\n",
       "      <td>1.414704e+03</td>\n",
       "      <td>2.0</td>\n",
       "      <td>611.250000</td>\n",
       "      <td>1.361500e+03</td>\n",
       "      <td>2.383250e+03</td>\n",
       "      <td>9.712000e+03</td>\n",
       "    </tr>\n",
       "    <tr>\n",
       "      <th>R</th>\n",
       "      <td>1630.0</td>\n",
       "      <td>2.420055e+02</td>\n",
       "      <td>2.185565e+02</td>\n",
       "      <td>0.0</td>\n",
       "      <td>80.000000</td>\n",
       "      <td>1.840000e+02</td>\n",
       "      <td>3.410000e+02</td>\n",
       "      <td>1.599000e+03</td>\n",
       "    </tr>\n",
       "    <tr>\n",
       "      <th>H</th>\n",
       "      <td>1630.0</td>\n",
       "      <td>4.647669e+02</td>\n",
       "      <td>4.072167e+02</td>\n",
       "      <td>0.0</td>\n",
       "      <td>159.250000</td>\n",
       "      <td>3.610000e+02</td>\n",
       "      <td>6.577500e+02</td>\n",
       "      <td>2.767000e+03</td>\n",
       "    </tr>\n",
       "    <tr>\n",
       "      <th>2B</th>\n",
       "      <td>1630.0</td>\n",
       "      <td>9.432822e+01</td>\n",
       "      <td>8.449235e+01</td>\n",
       "      <td>0.0</td>\n",
       "      <td>31.000000</td>\n",
       "      <td>7.400000e+01</td>\n",
       "      <td>1.347500e+02</td>\n",
       "      <td>5.830000e+02</td>\n",
       "    </tr>\n",
       "    <tr>\n",
       "      <th>3B</th>\n",
       "      <td>1630.0</td>\n",
       "      <td>1.159387e+01</td>\n",
       "      <td>1.381232e+01</td>\n",
       "      <td>0.0</td>\n",
       "      <td>3.000000</td>\n",
       "      <td>8.000000e+00</td>\n",
       "      <td>1.500000e+01</td>\n",
       "      <td>1.200000e+02</td>\n",
       "    </tr>\n",
       "    <tr>\n",
       "      <th>HR</th>\n",
       "      <td>1630.0</td>\n",
       "      <td>5.563497e+01</td>\n",
       "      <td>6.482100e+01</td>\n",
       "      <td>0.0</td>\n",
       "      <td>12.000000</td>\n",
       "      <td>3.400000e+01</td>\n",
       "      <td>7.700000e+01</td>\n",
       "      <td>5.600000e+02</td>\n",
       "    </tr>\n",
       "    <tr>\n",
       "      <th>RBI</th>\n",
       "      <td>1630.0</td>\n",
       "      <td>2.262153e+02</td>\n",
       "      <td>2.205107e+02</td>\n",
       "      <td>0.0</td>\n",
       "      <td>69.000000</td>\n",
       "      <td>1.635000e+02</td>\n",
       "      <td>3.140000e+02</td>\n",
       "      <td>1.698000e+03</td>\n",
       "    </tr>\n",
       "    <tr>\n",
       "      <th>SB</th>\n",
       "      <td>1630.0</td>\n",
       "      <td>3.758650e+01</td>\n",
       "      <td>5.660426e+01</td>\n",
       "      <td>0.0</td>\n",
       "      <td>4.000000</td>\n",
       "      <td>1.600000e+01</td>\n",
       "      <td>4.775000e+01</td>\n",
       "      <td>4.700000e+02</td>\n",
       "    </tr>\n",
       "    <tr>\n",
       "      <th>CS</th>\n",
       "      <td>1630.0</td>\n",
       "      <td>1.334294e+01</td>\n",
       "      <td>1.554114e+01</td>\n",
       "      <td>0.0</td>\n",
       "      <td>3.000000</td>\n",
       "      <td>8.000000e+00</td>\n",
       "      <td>1.800000e+01</td>\n",
       "      <td>1.110000e+02</td>\n",
       "    </tr>\n",
       "    <tr>\n",
       "      <th>BB</th>\n",
       "      <td>1630.0</td>\n",
       "      <td>1.602791e+02</td>\n",
       "      <td>1.559022e+02</td>\n",
       "      <td>0.0</td>\n",
       "      <td>50.000000</td>\n",
       "      <td>1.170000e+02</td>\n",
       "      <td>2.230000e+02</td>\n",
       "      <td>1.170000e+03</td>\n",
       "    </tr>\n",
       "    <tr>\n",
       "      <th>SO</th>\n",
       "      <td>1630.0</td>\n",
       "      <td>3.302638e+02</td>\n",
       "      <td>2.765448e+02</td>\n",
       "      <td>0.0</td>\n",
       "      <td>122.000000</td>\n",
       "      <td>2.630000e+02</td>\n",
       "      <td>4.750000e+02</td>\n",
       "      <td>2.031000e+03</td>\n",
       "    </tr>\n",
       "    <tr>\n",
       "      <th>IBB</th>\n",
       "      <td>1630.0</td>\n",
       "      <td>1.364540e+01</td>\n",
       "      <td>2.407859e+01</td>\n",
       "      <td>0.0</td>\n",
       "      <td>2.000000</td>\n",
       "      <td>7.000000e+00</td>\n",
       "      <td>1.500000e+01</td>\n",
       "      <td>2.960000e+02</td>\n",
       "    </tr>\n",
       "    <tr>\n",
       "      <th>HBP</th>\n",
       "      <td>1630.0</td>\n",
       "      <td>1.632761e+01</td>\n",
       "      <td>1.757525e+01</td>\n",
       "      <td>0.0</td>\n",
       "      <td>4.000000</td>\n",
       "      <td>1.100000e+01</td>\n",
       "      <td>2.200000e+01</td>\n",
       "      <td>1.140000e+02</td>\n",
       "    </tr>\n",
       "    <tr>\n",
       "      <th>SH</th>\n",
       "      <td>1630.0</td>\n",
       "      <td>9.201840e+00</td>\n",
       "      <td>1.252103e+01</td>\n",
       "      <td>0.0</td>\n",
       "      <td>1.000000</td>\n",
       "      <td>4.000000e+00</td>\n",
       "      <td>1.200000e+01</td>\n",
       "      <td>9.500000e+01</td>\n",
       "    </tr>\n",
       "    <tr>\n",
       "      <th>SF</th>\n",
       "      <td>1630.0</td>\n",
       "      <td>1.390859e+01</td>\n",
       "      <td>1.314847e+01</td>\n",
       "      <td>0.0</td>\n",
       "      <td>4.000000</td>\n",
       "      <td>1.000000e+01</td>\n",
       "      <td>2.000000e+01</td>\n",
       "      <td>9.300000e+01</td>\n",
       "    </tr>\n",
       "    <tr>\n",
       "      <th>GIDP</th>\n",
       "      <td>1630.0</td>\n",
       "      <td>3.804785e+01</td>\n",
       "      <td>3.889670e+01</td>\n",
       "      <td>0.0</td>\n",
       "      <td>11.000000</td>\n",
       "      <td>2.600000e+01</td>\n",
       "      <td>5.200000e+01</td>\n",
       "      <td>3.120000e+02</td>\n",
       "    </tr>\n",
       "    <tr>\n",
       "      <th>salary</th>\n",
       "      <td>1630.0</td>\n",
       "      <td>4.106649e+06</td>\n",
       "      <td>5.012104e+06</td>\n",
       "      <td>170000.0</td>\n",
       "      <td>450000.000000</td>\n",
       "      <td>2.000000e+06</td>\n",
       "      <td>5.900000e+06</td>\n",
       "      <td>2.800000e+07</td>\n",
       "    </tr>\n",
       "    <tr>\n",
       "      <th>age</th>\n",
       "      <td>1630.0</td>\n",
       "      <td>2.719816e+01</td>\n",
       "      <td>3.204604e+00</td>\n",
       "      <td>19.0</td>\n",
       "      <td>25.000000</td>\n",
       "      <td>2.700000e+01</td>\n",
       "      <td>2.900000e+01</td>\n",
       "      <td>3.900000e+01</td>\n",
       "    </tr>\n",
       "    <tr>\n",
       "      <th>woba</th>\n",
       "      <td>1630.0</td>\n",
       "      <td>3.319324e-01</td>\n",
       "      <td>3.999394e-02</td>\n",
       "      <td>0.0</td>\n",
       "      <td>0.311822</td>\n",
       "      <td>3.319772e-01</td>\n",
       "      <td>3.556943e-01</td>\n",
       "      <td>5.280833e-01</td>\n",
       "    </tr>\n",
       "    <tr>\n",
       "      <th>slg</th>\n",
       "      <td>1630.0</td>\n",
       "      <td>4.226713e-01</td>\n",
       "      <td>6.737180e-02</td>\n",
       "      <td>0.0</td>\n",
       "      <td>0.385687</td>\n",
       "      <td>4.234125e-01</td>\n",
       "      <td>4.633286e-01</td>\n",
       "      <td>6.526316e-01</td>\n",
       "    </tr>\n",
       "    <tr>\n",
       "      <th>obp</th>\n",
       "      <td>1630.0</td>\n",
       "      <td>3.310423e-01</td>\n",
       "      <td>3.437904e-02</td>\n",
       "      <td>0.0</td>\n",
       "      <td>0.313807</td>\n",
       "      <td>3.329044e-01</td>\n",
       "      <td>3.506714e-01</td>\n",
       "      <td>5.833333e-01</td>\n",
       "    </tr>\n",
       "    <tr>\n",
       "      <th>rc</th>\n",
       "      <td>1630.0</td>\n",
       "      <td>2.581760e+02</td>\n",
       "      <td>2.482239e+02</td>\n",
       "      <td>0.0</td>\n",
       "      <td>80.201298</td>\n",
       "      <td>1.908768e+02</td>\n",
       "      <td>3.608937e+02</td>\n",
       "      <td>1.987334e+03</td>\n",
       "    </tr>\n",
       "    <tr>\n",
       "      <th>avg</th>\n",
       "      <td>1630.0</td>\n",
       "      <td>2.668133e-01</td>\n",
       "      <td>3.082582e-02</td>\n",
       "      <td>0.0</td>\n",
       "      <td>0.251234</td>\n",
       "      <td>2.686250e-01</td>\n",
       "      <td>2.843238e-01</td>\n",
       "      <td>5.454545e-01</td>\n",
       "    </tr>\n",
       "  </tbody>\n",
       "</table>\n",
       "</div>"
      ],
      "text/plain": [
       "         count          mean           std       min            25%  \\\n",
       "stint   1630.0  4.882822e+00  2.862151e+00       1.0       3.000000   \n",
       "G       1630.0  4.883656e+02  3.766054e+02       2.0     198.000000   \n",
       "AB      1630.0  1.694816e+03  1.414704e+03       2.0     611.250000   \n",
       "R       1630.0  2.420055e+02  2.185565e+02       0.0      80.000000   \n",
       "H       1630.0  4.647669e+02  4.072167e+02       0.0     159.250000   \n",
       "2B      1630.0  9.432822e+01  8.449235e+01       0.0      31.000000   \n",
       "3B      1630.0  1.159387e+01  1.381232e+01       0.0       3.000000   \n",
       "HR      1630.0  5.563497e+01  6.482100e+01       0.0      12.000000   \n",
       "RBI     1630.0  2.262153e+02  2.205107e+02       0.0      69.000000   \n",
       "SB      1630.0  3.758650e+01  5.660426e+01       0.0       4.000000   \n",
       "CS      1630.0  1.334294e+01  1.554114e+01       0.0       3.000000   \n",
       "BB      1630.0  1.602791e+02  1.559022e+02       0.0      50.000000   \n",
       "SO      1630.0  3.302638e+02  2.765448e+02       0.0     122.000000   \n",
       "IBB     1630.0  1.364540e+01  2.407859e+01       0.0       2.000000   \n",
       "HBP     1630.0  1.632761e+01  1.757525e+01       0.0       4.000000   \n",
       "SH      1630.0  9.201840e+00  1.252103e+01       0.0       1.000000   \n",
       "SF      1630.0  1.390859e+01  1.314847e+01       0.0       4.000000   \n",
       "GIDP    1630.0  3.804785e+01  3.889670e+01       0.0      11.000000   \n",
       "salary  1630.0  4.106649e+06  5.012104e+06  170000.0  450000.000000   \n",
       "age     1630.0  2.719816e+01  3.204604e+00      19.0      25.000000   \n",
       "woba    1630.0  3.319324e-01  3.999394e-02       0.0       0.311822   \n",
       "slg     1630.0  4.226713e-01  6.737180e-02       0.0       0.385687   \n",
       "obp     1630.0  3.310423e-01  3.437904e-02       0.0       0.313807   \n",
       "rc      1630.0  2.581760e+02  2.482239e+02       0.0      80.201298   \n",
       "avg     1630.0  2.668133e-01  3.082582e-02       0.0       0.251234   \n",
       "\n",
       "                 50%           75%           max  \n",
       "stint   5.000000e+00  6.750000e+00  1.800000e+01  \n",
       "G       4.205000e+02  6.890000e+02  2.567000e+03  \n",
       "AB      1.361500e+03  2.383250e+03  9.712000e+03  \n",
       "R       1.840000e+02  3.410000e+02  1.599000e+03  \n",
       "H       3.610000e+02  6.577500e+02  2.767000e+03  \n",
       "2B      7.400000e+01  1.347500e+02  5.830000e+02  \n",
       "3B      8.000000e+00  1.500000e+01  1.200000e+02  \n",
       "HR      3.400000e+01  7.700000e+01  5.600000e+02  \n",
       "RBI     1.635000e+02  3.140000e+02  1.698000e+03  \n",
       "SB      1.600000e+01  4.775000e+01  4.700000e+02  \n",
       "CS      8.000000e+00  1.800000e+01  1.110000e+02  \n",
       "BB      1.170000e+02  2.230000e+02  1.170000e+03  \n",
       "SO      2.630000e+02  4.750000e+02  2.031000e+03  \n",
       "IBB     7.000000e+00  1.500000e+01  2.960000e+02  \n",
       "HBP     1.100000e+01  2.200000e+01  1.140000e+02  \n",
       "SH      4.000000e+00  1.200000e+01  9.500000e+01  \n",
       "SF      1.000000e+01  2.000000e+01  9.300000e+01  \n",
       "GIDP    2.600000e+01  5.200000e+01  3.120000e+02  \n",
       "salary  2.000000e+06  5.900000e+06  2.800000e+07  \n",
       "age     2.700000e+01  2.900000e+01  3.900000e+01  \n",
       "woba    3.319772e-01  3.556943e-01  5.280833e-01  \n",
       "slg     4.234125e-01  4.633286e-01  6.526316e-01  \n",
       "obp     3.329044e-01  3.506714e-01  5.833333e-01  \n",
       "rc      1.908768e+02  3.608937e+02  1.987334e+03  \n",
       "avg     2.686250e-01  2.843238e-01  5.454545e-01  "
      ]
     },
     "execution_count": 10,
     "metadata": {},
     "output_type": "execute_result"
    }
   ],
   "source": [
    "batting_data.describe().T"
   ]
  },
  {
   "cell_type": "code",
   "execution_count": 11,
   "metadata": {
    "scrolled": true
   },
   "outputs": [
    {
     "data": {
      "text/plain": [
       "(array([621.,  95.,  78.,  65.,  78.,  75.,  47.,  44.,  60.,  44.,  42.,\n",
       "         31.,  37.,  27.,  38.,  16.,  18.,  17.,  16.,  15.,   6.,  12.,\n",
       "         11.,  23.,  11.,  11.,  12.,   9.,  14.,   4.,   4.,   2.,   5.,\n",
       "          3.,   2.,   8.,   2.,   8.,   5.,   3.,   2.,   2.,   4.,   0.,\n",
       "          2.,   0.,   0.,   0.,   0.,   1.]),\n",
       " array([  170000.,   726600.,  1283200.,  1839800.,  2396400.,  2953000.,\n",
       "         3509600.,  4066200.,  4622800.,  5179400.,  5736000.,  6292600.,\n",
       "         6849200.,  7405800.,  7962400.,  8519000.,  9075600.,  9632200.,\n",
       "        10188800., 10745400., 11302000., 11858600., 12415200., 12971800.,\n",
       "        13528400., 14085000., 14641600., 15198200., 15754800., 16311400.,\n",
       "        16868000., 17424600., 17981200., 18537800., 19094400., 19651000.,\n",
       "        20207600., 20764200., 21320800., 21877400., 22434000., 22990600.,\n",
       "        23547200., 24103800., 24660400., 25217000., 25773600., 26330200.,\n",
       "        26886800., 27443400., 28000000.]),\n",
       " <BarContainer object of 50 artists>)"
      ]
     },
     "execution_count": 11,
     "metadata": {},
     "output_type": "execute_result"
    },
    {
     "data": {
      "image/png": "[encoded data removed]",
      "text/plain": [
       "<Figure size 432x288 with 1 Axes>"
      ]
     },
     "metadata": {
      "needs_background": "light"
     },
     "output_type": "display_data"
    }
   ],
   "source": [
    "plt.hist((batting_data['salary']),bins=50)"
   ]
  },
  {
   "cell_type": "code",
   "execution_count": 12,
   "metadata": {
    "scrolled": true
   },
   "outputs": [
    {
     "data": {
      "text/plain": [
       "((1630, 24), (1630, 1))"
      ]
     },
     "execution_count": 12,
     "metadata": {},
     "output_type": "execute_result"
    }
   ],
   "source": [
    "X = batting_data.drop(['salary'], axis=1)  \n",
    "y = (batting_data[['salary']])              \n",
    "X.shape, y.shape"
   ]
  },
  {
   "cell_type": "code",
   "execution_count": 13,
   "metadata": {
    "scrolled": false
   },
   "outputs": [
    {
     "name": "stderr",
     "output_type": "stream",
     "text": [
      "<ipython-input-13-dbd398102410>:1: SettingWithCopyWarning: \n",
      "A value is trying to be set on a copy of a slice from a DataFrame.\n",
      "Try using .loc[row_indexer,col_indexer] = value instead\n",
      "\n",
      "See the caveats in the documentation: https://pandas.pydata.org/pandas-docs/stable/user_guide/indexing.html#returning-a-view-versus-a-copy\n",
      "  y['rank']=KMeans(n_clusters=4, random_state=1).fit_predict(X = y)\n"
     ]
    }
   ],
   "source": [
    "y['rank']=KMeans(n_clusters=4, random_state=1).fit_predict(X = y)"
   ]
  },
  {
   "cell_type": "code",
   "execution_count": 14,
   "metadata": {},
   "outputs": [],
   "source": [
    "y = y.replace({'rank':2},4)\n",
    "y = y.replace({'rank':1},2)\n",
    "y = y.replace({'rank':4},1)"
   ]
  },
  {
   "cell_type": "code",
   "execution_count": 15,
   "metadata": {
    "scrolled": true
   },
   "outputs": [
    {
     "data": {
      "text/plain": [
       "<matplotlib.collections.PathCollection at 0x2799307ba30>"
      ]
     },
     "execution_count": 15,
     "metadata": {},
     "output_type": "execute_result"
    },
    {
     "data": {
      "image/png": "[encoded data removed]",
      "text/plain": [
       "<Figure size 432x288 with 1 Axes>"
      ]
     },
     "metadata": {
      "needs_background": "light"
     },
     "output_type": "display_data"
    }
   ],
   "source": [
    "plt.scatter(y['salary'],y['rank'])"
   ]
  },
  {
   "cell_type": "code",
   "execution_count": 16,
   "metadata": {
    "scrolled": false
   },
   "outputs": [
    {
     "data": {
      "text/plain": [
       "<matplotlib.collections.PathCollection at 0x279930f0100>"
      ]
     },
     "execution_count": 16,
     "metadata": {},
     "output_type": "execute_result"
    },
    {
     "data": {
      "image/png": "[encoded data removed]",
      "text/plain": [
       "<Figure size 432x288 with 1 Axes>"
      ]
     },
     "metadata": {
      "needs_background": "light"
     },
     "output_type": "display_data"
    }
   ],
   "source": [
    "plt.scatter(batting_data['RBI'],batting_data['salary'],c=y['rank'])"
   ]
  },
  {
   "cell_type": "code",
   "execution_count": 17,
   "metadata": {
    "scrolled": false
   },
   "outputs": [
    {
     "data": {
      "text/plain": [
       "<AxesSubplot:xlabel='rank', ylabel='count'>"
      ]
     },
     "execution_count": 17,
     "metadata": {},
     "output_type": "execute_result"
    },
    {
     "data": {
      "image/png": "[encoded data removed]",
      "text/plain": [
       "<Figure size 432x288 with 1 Axes>"
      ]
     },
     "metadata": {
      "needs_background": "light"
     },
     "output_type": "display_data"
    }
   ],
   "source": [
    "plt.xlabel('salary_rank')\n",
    "sns.countplot(x = y['rank'])#.get_figure().savefig('count')"
   ]
  },
  {
   "cell_type": "code",
   "execution_count": 18,
   "metadata": {},
   "outputs": [],
   "source": [
    "y = y['rank']"
   ]
  },
  {
   "cell_type": "code",
   "execution_count": 19,
   "metadata": {},
   "outputs": [
    {
     "data": {
      "text/plain": [
       "0       0\n",
       "1       0\n",
       "2       0\n",
       "3       0\n",
       "4       1\n",
       "       ..\n",
       "4675    0\n",
       "4676    0\n",
       "4677    0\n",
       "4678    0\n",
       "4679    1\n",
       "Name: rank, Length: 1630, dtype: int32"
      ]
     },
     "execution_count": 19,
     "metadata": {},
     "output_type": "execute_result"
    }
   ],
   "source": [
    "y"
   ]
  },
  {
   "cell_type": "code",
   "execution_count": 20,
   "metadata": {},
   "outputs": [
    {
     "data": {
      "text/plain": [
       "(1630, 20)"
      ]
     },
     "execution_count": 20,
     "metadata": {},
     "output_type": "execute_result"
    }
   ],
   "source": [
    "from sklearn.feature_selection import VarianceThreshold\n",
    "sel = VarianceThreshold(threshold=(.7 * (1 - .7)))  \n",
    "X_remove_variance = sel.fit_transform(X)\n",
    "X_remove_variance.shape"
   ]
  },
  {
   "cell_type": "markdown",
   "metadata": {},
   "source": [
    "+ #### Correlation matrix with Heatmap"
   ]
  },
  {
   "cell_type": "code",
   "execution_count": 21,
   "metadata": {
    "scrolled": true
   },
   "outputs": [
    {
     "data": {
      "text/plain": [
       "{'threshold': 0.21000000000000002}"
      ]
     },
     "execution_count": 21,
     "metadata": {},
     "output_type": "execute_result"
    }
   ],
   "source": [
    "sel.get_params()  #  threshold value"
   ]
  },
  {
   "cell_type": "code",
   "execution_count": 22,
   "metadata": {
    "scrolled": false
   },
   "outputs": [
    {
     "data": {
      "text/plain": [
       "array([ True,  True,  True,  True,  True,  True,  True,  True,  True,\n",
       "        True,  True,  True,  True,  True,  True,  True,  True,  True,\n",
       "        True, False, False, False,  True, False])"
      ]
     },
     "execution_count": 22,
     "metadata": {},
     "output_type": "execute_result"
    }
   ],
   "source": [
    "sel.get_support()  # Get a mask, or integer index, of the features selected"
   ]
  },
  {
   "cell_type": "markdown",
   "metadata": {},
   "source": [
    "+ **The features been removed :**"
   ]
  },
  {
   "cell_type": "code",
   "execution_count": 23,
   "metadata": {
    "scrolled": false
   },
   "outputs": [
    {
     "data": {
      "text/plain": [
       "Index(['woba', 'slg', 'obp', 'avg'], dtype='object')"
      ]
     },
     "execution_count": 23,
     "metadata": {},
     "output_type": "execute_result"
    }
   ],
   "source": [
    "X.columns[~sel.get_support()]"
   ]
  },
  {
   "cell_type": "markdown",
   "metadata": {},
   "source": [
    "+ **The features remained :**"
   ]
  },
  {
   "cell_type": "code",
   "execution_count": 24,
   "metadata": {
    "scrolled": true
   },
   "outputs": [
    {
     "data": {
      "text/plain": [
       "Index(['stint', 'G', 'AB', 'R', 'H', '2B', '3B', 'HR', 'RBI', 'SB', 'CS', 'BB',\n",
       "       'SO', 'IBB', 'HBP', 'SH', 'SF', 'GIDP', 'age', 'rc'],\n",
       "      dtype='object')"
      ]
     },
     "execution_count": 24,
     "metadata": {},
     "output_type": "execute_result"
    }
   ],
   "source": [
    "X.columns[sel.get_support()]   # The features remained"
   ]
  },
  {
   "cell_type": "code",
   "execution_count": 25,
   "metadata": {
    "scrolled": false
   },
   "outputs": [
    {
     "data": {
      "text/html": [
       "<div>\n",
       "<style scoped>\n",
       "    .dataframe tbody tr th:only-of-type {\n",
       "        vertical-align: middle;\n",
       "    }\n",
       "\n",
       "    .dataframe tbody tr th {\n",
       "        vertical-align: top;\n",
       "    }\n",
       "\n",
       "    .dataframe thead th {\n",
       "        text-align: right;\n",
       "    }\n",
       "</style>\n",
       "<table border=\"1\" class=\"dataframe\">\n",
       "  <thead>\n",
       "    <tr style=\"text-align: right;\">\n",
       "      <th></th>\n",
       "      <th>Specs</th>\n",
       "      <th>chi2_Scores</th>\n",
       "      <th>f-test_Scores</th>\n",
       "      <th>mutual_info_scores</th>\n",
       "    </tr>\n",
       "  </thead>\n",
       "  <tbody>\n",
       "    <tr>\n",
       "      <th>0</th>\n",
       "      <td>stint</td>\n",
       "      <td>1.285692e+03</td>\n",
       "      <td>481.485661</td>\n",
       "      <td>0.331305</td>\n",
       "    </tr>\n",
       "    <tr>\n",
       "      <th>1</th>\n",
       "      <td>G</td>\n",
       "      <td>3.127100e+05</td>\n",
       "      <td>1056.758439</td>\n",
       "      <td>0.519582</td>\n",
       "    </tr>\n",
       "    <tr>\n",
       "      <th>2</th>\n",
       "      <td>AB</td>\n",
       "      <td>1.335579e+06</td>\n",
       "      <td>1230.909987</td>\n",
       "      <td>0.577692</td>\n",
       "    </tr>\n",
       "    <tr>\n",
       "      <th>3</th>\n",
       "      <td>R</td>\n",
       "      <td>2.266019e+05</td>\n",
       "      <td>1293.786878</td>\n",
       "      <td>0.572982</td>\n",
       "    </tr>\n",
       "    <tr>\n",
       "      <th>4</th>\n",
       "      <td>H</td>\n",
       "      <td>4.053251e+05</td>\n",
       "      <td>1248.996123</td>\n",
       "      <td>0.574471</td>\n",
       "    </tr>\n",
       "    <tr>\n",
       "      <th>5</th>\n",
       "      <td>2B</td>\n",
       "      <td>8.478799e+04</td>\n",
       "      <td>1193.696454</td>\n",
       "      <td>0.571047</td>\n",
       "    </tr>\n",
       "    <tr>\n",
       "      <th>6</th>\n",
       "      <td>3B</td>\n",
       "      <td>7.172109e+03</td>\n",
       "      <td>197.991922</td>\n",
       "      <td>0.196148</td>\n",
       "    </tr>\n",
       "    <tr>\n",
       "      <th>7</th>\n",
       "      <td>HR</td>\n",
       "      <td>7.781293e+04</td>\n",
       "      <td>932.751461</td>\n",
       "      <td>0.491174</td>\n",
       "    </tr>\n",
       "    <tr>\n",
       "      <th>8</th>\n",
       "      <td>RBI</td>\n",
       "      <td>2.459516e+05</td>\n",
       "      <td>1279.302233</td>\n",
       "      <td>0.598665</td>\n",
       "    </tr>\n",
       "    <tr>\n",
       "      <th>9</th>\n",
       "      <td>SB</td>\n",
       "      <td>3.135166e+04</td>\n",
       "      <td>158.053590</td>\n",
       "      <td>0.149560</td>\n",
       "    </tr>\n",
       "    <tr>\n",
       "      <th>10</th>\n",
       "      <td>CS</td>\n",
       "      <td>9.401728e+03</td>\n",
       "      <td>253.701453</td>\n",
       "      <td>0.220959</td>\n",
       "    </tr>\n",
       "    <tr>\n",
       "      <th>11</th>\n",
       "      <td>BB</td>\n",
       "      <td>1.599969e+05</td>\n",
       "      <td>996.390120</td>\n",
       "      <td>0.536997</td>\n",
       "    </tr>\n",
       "    <tr>\n",
       "      <th>12</th>\n",
       "      <td>SO</td>\n",
       "      <td>2.509436e+05</td>\n",
       "      <td>1077.121245</td>\n",
       "      <td>0.497068</td>\n",
       "    </tr>\n",
       "    <tr>\n",
       "      <th>13</th>\n",
       "      <td>IBB</td>\n",
       "      <td>2.981504e+04</td>\n",
       "      <td>410.151983</td>\n",
       "      <td>0.363349</td>\n",
       "    </tr>\n",
       "    <tr>\n",
       "      <th>14</th>\n",
       "      <td>HBP</td>\n",
       "      <td>1.218393e+04</td>\n",
       "      <td>354.391859</td>\n",
       "      <td>0.276206</td>\n",
       "    </tr>\n",
       "    <tr>\n",
       "      <th>15</th>\n",
       "      <td>SH</td>\n",
       "      <td>1.866916e+03</td>\n",
       "      <td>39.087647</td>\n",
       "      <td>0.071263</td>\n",
       "    </tr>\n",
       "    <tr>\n",
       "      <th>16</th>\n",
       "      <td>SF</td>\n",
       "      <td>1.237998e+04</td>\n",
       "      <td>852.779060</td>\n",
       "      <td>0.454730</td>\n",
       "    </tr>\n",
       "    <tr>\n",
       "      <th>17</th>\n",
       "      <td>GIDP</td>\n",
       "      <td>3.517104e+04</td>\n",
       "      <td>643.895146</td>\n",
       "      <td>0.415575</td>\n",
       "    </tr>\n",
       "    <tr>\n",
       "      <th>18</th>\n",
       "      <td>age</td>\n",
       "      <td>1.589687e+02</td>\n",
       "      <td>188.904255</td>\n",
       "      <td>0.154766</td>\n",
       "    </tr>\n",
       "    <tr>\n",
       "      <th>19</th>\n",
       "      <td>woba</td>\n",
       "      <td>1.300047e+00</td>\n",
       "      <td>107.580111</td>\n",
       "      <td>0.157168</td>\n",
       "    </tr>\n",
       "    <tr>\n",
       "      <th>20</th>\n",
       "      <td>slg</td>\n",
       "      <td>2.901627e+00</td>\n",
       "      <td>107.778548</td>\n",
       "      <td>0.145174</td>\n",
       "    </tr>\n",
       "    <tr>\n",
       "      <th>21</th>\n",
       "      <td>obp</td>\n",
       "      <td>6.834889e-01</td>\n",
       "      <td>72.177219</td>\n",
       "      <td>0.107634</td>\n",
       "    </tr>\n",
       "    <tr>\n",
       "      <th>22</th>\n",
       "      <td>rc</td>\n",
       "      <td>2.789838e+05</td>\n",
       "      <td>1377.308807</td>\n",
       "      <td>0.630708</td>\n",
       "    </tr>\n",
       "    <tr>\n",
       "      <th>23</th>\n",
       "      <td>avg</td>\n",
       "      <td>4.559083e-01</td>\n",
       "      <td>46.225136</td>\n",
       "      <td>0.089959</td>\n",
       "    </tr>\n",
       "  </tbody>\n",
       "</table>\n",
       "</div>"
      ],
      "text/plain": [
       "    Specs   chi2_Scores  f-test_Scores  mutual_info_scores\n",
       "0   stint  1.285692e+03     481.485661            0.331305\n",
       "1       G  3.127100e+05    1056.758439            0.519582\n",
       "2      AB  1.335579e+06    1230.909987            0.577692\n",
       "3       R  2.266019e+05    1293.786878            0.572982\n",
       "4       H  4.053251e+05    1248.996123            0.574471\n",
       "5      2B  8.478799e+04    1193.696454            0.571047\n",
       "6      3B  7.172109e+03     197.991922            0.196148\n",
       "7      HR  7.781293e+04     932.751461            0.491174\n",
       "8     RBI  2.459516e+05    1279.302233            0.598665\n",
       "9      SB  3.135166e+04     158.053590            0.149560\n",
       "10     CS  9.401728e+03     253.701453            0.220959\n",
       "11     BB  1.599969e+05     996.390120            0.536997\n",
       "12     SO  2.509436e+05    1077.121245            0.497068\n",
       "13    IBB  2.981504e+04     410.151983            0.363349\n",
       "14    HBP  1.218393e+04     354.391859            0.276206\n",
       "15     SH  1.866916e+03      39.087647            0.071263\n",
       "16     SF  1.237998e+04     852.779060            0.454730\n",
       "17   GIDP  3.517104e+04     643.895146            0.415575\n",
       "18    age  1.589687e+02     188.904255            0.154766\n",
       "19   woba  1.300047e+00     107.580111            0.157168\n",
       "20    slg  2.901627e+00     107.778548            0.145174\n",
       "21    obp  6.834889e-01      72.177219            0.107634\n",
       "22     rc  2.789838e+05    1377.308807            0.630708\n",
       "23    avg  4.559083e-01      46.225136            0.089959"
      ]
     },
     "execution_count": 25,
     "metadata": {},
     "output_type": "execute_result"
    }
   ],
   "source": [
    "from sklearn.feature_selection import SelectKBest, SelectPercentile\n",
    "from sklearn.feature_selection import chi2, f_classif, mutual_info_classif\n",
    "\n",
    "##  Selecting Top 10 Best Features using SelectKBest class\n",
    "kc = SelectKBest(score_func=chi2, k=4)\n",
    "kf = SelectKBest(score_func=f_classif, k=4)\n",
    "km = SelectKBest(score_func=mutual_info_classif, k=4)\n",
    "\n",
    "kc_fit = kc.fit(X,y)\n",
    "kf_fit = kf.fit(X,y)\n",
    "km_fit = km.fit(X,y)\n",
    "\n",
    "kc_scores = pd.DataFrame(kc_fit.scores_)  # Scores of features.\n",
    "kf_scores = pd.DataFrame(kf_fit.scores_)  # Scores of features.\n",
    "km_scores = pd.DataFrame(km_fit.scores_)  # Scores of features.\n",
    "X_columns = pd.DataFrame(X.columns)\n",
    "\n",
    "# Combine dataframes ... \n",
    "featureScores = pd.concat([X_columns, kc_scores, kf_scores, km_scores], axis=1)\n",
    "# Naming the dataframe's columns ...\n",
    "featureScores.columns = ['Specs', 'chi2_Scores', 'f-test_Scores', \n",
    "                         'mutual_info_scores'] \n",
    "featureScores"
   ]
  },
  {
   "cell_type": "code",
   "execution_count": 26,
   "metadata": {
    "scrolled": false
   },
   "outputs": [
    {
     "data": {
      "text/plain": [
       "<Figure size 720x1440 with 0 Axes>"
      ]
     },
     "metadata": {},
     "output_type": "display_data"
    },
    {
     "data": {
      "image/png": "[encoded data removed]",
      "text/plain": [
       "<Figure size 432x288 with 1 Axes>"
      ]
     },
     "metadata": {
      "needs_background": "light"
     },
     "output_type": "display_data"
    },
    {
     "data": {
      "image/png": "[encoded data removed]",
      "text/plain": [
       "<Figure size 432x288 with 1 Axes>"
      ]
     },
     "metadata": {
      "needs_background": "light"
     },
     "output_type": "display_data"
    },
    {
     "data": {
      "image/png": "[encoded data removed]",
      "text/plain": [
       "<Figure size 432x288 with 1 Axes>"
      ]
     },
     "metadata": {
      "needs_background": "light"
     },
     "output_type": "display_data"
    }
   ],
   "source": [
    "plt.figure(1, figsize=(10, 20))\n",
    "for i in range(3):\n",
    "    # plt.subplot(131+i)\n",
    "    fs = featureScores.columns[i+1]\n",
    "    best_features = featureScores.nlargest(10, fs)[['Specs', fs]]\n",
    "    best_features.plot.barh('Specs');   # pands plot()"
   ]
  },
  {
   "cell_type": "code",
   "execution_count": 27,
   "metadata": {
    "scrolled": true
   },
   "outputs": [
    {
     "data": {
      "text/plain": [
       "array([False, False,  True,  True, False,  True, False, False,  True,\n",
       "       False, False, False, False, False, False, False, False, False,\n",
       "       False, False, False, False,  True, False])"
      ]
     },
     "execution_count": 27,
     "metadata": {},
     "output_type": "execute_result"
    }
   ],
   "source": [
    "# 引入RFE套件 & estimator套件\n",
    "from sklearn.feature_selection import RFE\n",
    "from sklearn.ensemble import RandomForestClassifier\n",
    "\n",
    "# estimator to be estimated (待估計的 estimator)\n",
    "rfc = RandomForestClassifier(random_state=100, \n",
    "                             n_estimators=50)\n",
    "\n",
    "# estimate model(估計模型)\n",
    "rfe_model = RFE(rfc, \n",
    "                n_features_to_select = 5, # select 5 features (選取 5個必要的特徵變數)\n",
    "                step = 1)  # remove one at a time (每次遞迴除掉 1個不必要的變數)\n",
    "\n",
    "rfe = rfe_model.fit(X, y.astype('int')) # fit model(擬合模型) \n",
    "rfe.support_   # rfe.get_support() (回傳特徵變數是否必要)"
   ]
  },
  {
   "cell_type": "code",
   "execution_count": 28,
   "metadata": {
    "scrolled": false
   },
   "outputs": [
    {
     "data": {
      "text/plain": [
       "array([17,  3,  1,  1,  2,  1, 15,  4,  1,  7, 14,  8,  6, 10, 12, 20, 18,\n",
       "       16, 19,  5, 13, 11,  1,  9])"
      ]
     },
     "execution_count": 28,
     "metadata": {},
     "output_type": "execute_result"
    }
   ],
   "source": [
    "rfe.ranking_  # Selected (i.e., estimated best) features are assigned rank 1."
   ]
  },
  {
   "cell_type": "code",
   "execution_count": 29,
   "metadata": {
    "scrolled": true
   },
   "outputs": [
    {
     "data": {
      "text/plain": [
       "Index(['AB', 'R', '2B', 'RBI', 'rc'], dtype='object')"
      ]
     },
     "execution_count": 29,
     "metadata": {},
     "output_type": "execute_result"
    }
   ],
   "source": [
    "X.columns[rfe.support_]   # X.columns[rfe.ranking_ == 1]"
   ]
  },
  {
   "cell_type": "code",
   "execution_count": 30,
   "metadata": {
    "scrolled": false
   },
   "outputs": [
    {
     "data": {
      "text/html": [
       "<div>\n",
       "<style scoped>\n",
       "    .dataframe tbody tr th:only-of-type {\n",
       "        vertical-align: middle;\n",
       "    }\n",
       "\n",
       "    .dataframe tbody tr th {\n",
       "        vertical-align: top;\n",
       "    }\n",
       "\n",
       "    .dataframe thead th {\n",
       "        text-align: right;\n",
       "    }\n",
       "</style>\n",
       "<table border=\"1\" class=\"dataframe\">\n",
       "  <thead>\n",
       "    <tr style=\"text-align: right;\">\n",
       "      <th></th>\n",
       "      <th>AB</th>\n",
       "      <th>R</th>\n",
       "      <th>2B</th>\n",
       "      <th>RBI</th>\n",
       "      <th>rc</th>\n",
       "    </tr>\n",
       "  </thead>\n",
       "  <tbody>\n",
       "    <tr>\n",
       "      <th>0</th>\n",
       "      <td>195</td>\n",
       "      <td>18</td>\n",
       "      <td>9</td>\n",
       "      <td>22</td>\n",
       "      <td>20.037736</td>\n",
       "    </tr>\n",
       "    <tr>\n",
       "      <th>1</th>\n",
       "      <td>733</td>\n",
       "      <td>102</td>\n",
       "      <td>36</td>\n",
       "      <td>89</td>\n",
       "      <td>101.282742</td>\n",
       "    </tr>\n",
       "    <tr>\n",
       "      <th>2</th>\n",
       "      <td>1243</td>\n",
       "      <td>173</td>\n",
       "      <td>66</td>\n",
       "      <td>174</td>\n",
       "      <td>188.534296</td>\n",
       "    </tr>\n",
       "    <tr>\n",
       "      <th>3</th>\n",
       "      <td>1718</td>\n",
       "      <td>232</td>\n",
       "      <td>88</td>\n",
       "      <td>234</td>\n",
       "      <td>249.456418</td>\n",
       "    </tr>\n",
       "    <tr>\n",
       "      <th>4</th>\n",
       "      <td>2305</td>\n",
       "      <td>302</td>\n",
       "      <td>114</td>\n",
       "      <td>309</td>\n",
       "      <td>326.005157</td>\n",
       "    </tr>\n",
       "    <tr>\n",
       "      <th>...</th>\n",
       "      <td>...</td>\n",
       "      <td>...</td>\n",
       "      <td>...</td>\n",
       "      <td>...</td>\n",
       "      <td>...</td>\n",
       "    </tr>\n",
       "    <tr>\n",
       "      <th>4675</th>\n",
       "      <td>150</td>\n",
       "      <td>26</td>\n",
       "      <td>8</td>\n",
       "      <td>25</td>\n",
       "      <td>32.431953</td>\n",
       "    </tr>\n",
       "    <tr>\n",
       "      <th>4676</th>\n",
       "      <td>644</td>\n",
       "      <td>99</td>\n",
       "      <td>34</td>\n",
       "      <td>73</td>\n",
       "      <td>96.621969</td>\n",
       "    </tr>\n",
       "    <tr>\n",
       "      <th>4677</th>\n",
       "      <td>1045</td>\n",
       "      <td>140</td>\n",
       "      <td>52</td>\n",
       "      <td>119</td>\n",
       "      <td>146.839333</td>\n",
       "    </tr>\n",
       "    <tr>\n",
       "      <th>4678</th>\n",
       "      <td>1304</td>\n",
       "      <td>167</td>\n",
       "      <td>61</td>\n",
       "      <td>157</td>\n",
       "      <td>179.915433</td>\n",
       "    </tr>\n",
       "    <tr>\n",
       "      <th>4679</th>\n",
       "      <td>1866</td>\n",
       "      <td>231</td>\n",
       "      <td>90</td>\n",
       "      <td>217</td>\n",
       "      <td>248.746773</td>\n",
       "    </tr>\n",
       "  </tbody>\n",
       "</table>\n",
       "<p>1630 rows × 5 columns</p>\n",
       "</div>"
      ],
      "text/plain": [
       "        AB    R   2B  RBI          rc\n",
       "0      195   18    9   22   20.037736\n",
       "1      733  102   36   89  101.282742\n",
       "2     1243  173   66  174  188.534296\n",
       "3     1718  232   88  234  249.456418\n",
       "4     2305  302  114  309  326.005157\n",
       "...    ...  ...  ...  ...         ...\n",
       "4675   150   26    8   25   32.431953\n",
       "4676   644   99   34   73   96.621969\n",
       "4677  1045  140   52  119  146.839333\n",
       "4678  1304  167   61  157  179.915433\n",
       "4679  1866  231   90  217  248.746773\n",
       "\n",
       "[1630 rows x 5 columns]"
      ]
     },
     "execution_count": 30,
     "metadata": {},
     "output_type": "execute_result"
    }
   ],
   "source": [
    "X[X.columns[rfe.ranking_ == 1]]"
   ]
  },
  {
   "cell_type": "code",
   "execution_count": 31,
   "metadata": {
    "scrolled": true
   },
   "outputs": [
    {
     "name": "stderr",
     "output_type": "stream",
     "text": [
      "C:\\Users\\ASUS\\anaconda3\\envs\\tensorflow2\\lib\\site-packages\\sklearn\\svm\\_base.py:985: ConvergenceWarning: Liblinear failed to converge, increase the number of iterations.\n",
      "  warnings.warn(\"Liblinear failed to converge, increase \"\n"
     ]
    },
    {
     "data": {
      "text/plain": [
       "(1630, 5)"
      ]
     },
     "execution_count": 31,
     "metadata": {},
     "output_type": "execute_result"
    }
   ],
   "source": [
    "from sklearn.svm import LinearSVC  # Linear Support Vector Classification\n",
    "from sklearn.feature_selection import SelectFromModel\n",
    "\n",
    "# estimator to be estimated (待估計的 estimator)\n",
    "lsvc = LinearSVC(C=0.001, penalty=\"l1\", dual=False)\n",
    "\n",
    "# estimate model(估計模型)\n",
    "lsvc_model = SelectFromModel(lsvc,\n",
    "                             max_features=5)# select 5 features (選取 5個必要的特徵變數)\n",
    "X_lsvc = lsvc_model.fit_transform(X, y)# fit model(擬合模型)\n",
    "X_lsvc.shape"
   ]
  },
  {
   "cell_type": "code",
   "execution_count": 32,
   "metadata": {},
   "outputs": [
    {
     "data": {
      "text/plain": [
       "1e-05"
      ]
     },
     "execution_count": 32,
     "metadata": {},
     "output_type": "execute_result"
    }
   ],
   "source": [
    "# Features whose importance is greater or equal to the threshold \n",
    "# are kept while the others are discarded.\n",
    "lsvc_model.threshold_  # penalty=\"l1\" : threshold = 0.00001 (1e-5)"
   ]
  },
  {
   "cell_type": "code",
   "execution_count": 33,
   "metadata": {
    "scrolled": true
   },
   "outputs": [
    {
     "data": {
      "text/plain": [
       "array([False, False, False, False, False,  True, False, False, False,\n",
       "       False, False,  True, False,  True, False, False, False, False,\n",
       "        True, False, False, False,  True, False])"
      ]
     },
     "execution_count": 33,
     "metadata": {},
     "output_type": "execute_result"
    }
   ],
   "source": [
    "lsvc_model.get_support()"
   ]
  },
  {
   "cell_type": "code",
   "execution_count": 34,
   "metadata": {
    "scrolled": true
   },
   "outputs": [
    {
     "data": {
      "text/html": [
       "<div>\n",
       "<style scoped>\n",
       "    .dataframe tbody tr th:only-of-type {\n",
       "        vertical-align: middle;\n",
       "    }\n",
       "\n",
       "    .dataframe tbody tr th {\n",
       "        vertical-align: top;\n",
       "    }\n",
       "\n",
       "    .dataframe thead th {\n",
       "        text-align: right;\n",
       "    }\n",
       "</style>\n",
       "<table border=\"1\" class=\"dataframe\">\n",
       "  <thead>\n",
       "    <tr style=\"text-align: right;\">\n",
       "      <th></th>\n",
       "      <th>2B</th>\n",
       "      <th>BB</th>\n",
       "      <th>IBB</th>\n",
       "      <th>age</th>\n",
       "      <th>rc</th>\n",
       "    </tr>\n",
       "  </thead>\n",
       "  <tbody>\n",
       "    <tr>\n",
       "      <th>0</th>\n",
       "      <td>9</td>\n",
       "      <td>14</td>\n",
       "      <td>0</td>\n",
       "      <td>19</td>\n",
       "      <td>20.037736</td>\n",
       "    </tr>\n",
       "    <tr>\n",
       "      <th>1</th>\n",
       "      <td>36</td>\n",
       "      <td>75</td>\n",
       "      <td>12</td>\n",
       "      <td>20</td>\n",
       "      <td>101.282742</td>\n",
       "    </tr>\n",
       "    <tr>\n",
       "      <th>2</th>\n",
       "      <td>66</td>\n",
       "      <td>131</td>\n",
       "      <td>14</td>\n",
       "      <td>21</td>\n",
       "      <td>188.534296</td>\n",
       "    </tr>\n",
       "    <tr>\n",
       "      <th>3</th>\n",
       "      <td>88</td>\n",
       "      <td>159</td>\n",
       "      <td>15</td>\n",
       "      <td>22</td>\n",
       "      <td>249.456418</td>\n",
       "    </tr>\n",
       "    <tr>\n",
       "      <th>4</th>\n",
       "      <td>114</td>\n",
       "      <td>196</td>\n",
       "      <td>19</td>\n",
       "      <td>23</td>\n",
       "      <td>326.005157</td>\n",
       "    </tr>\n",
       "    <tr>\n",
       "      <th>...</th>\n",
       "      <td>...</td>\n",
       "      <td>...</td>\n",
       "      <td>...</td>\n",
       "      <td>...</td>\n",
       "      <td>...</td>\n",
       "    </tr>\n",
       "    <tr>\n",
       "      <th>4675</th>\n",
       "      <td>8</td>\n",
       "      <td>16</td>\n",
       "      <td>1</td>\n",
       "      <td>21</td>\n",
       "      <td>32.431953</td>\n",
       "    </tr>\n",
       "    <tr>\n",
       "      <th>4676</th>\n",
       "      <td>34</td>\n",
       "      <td>49</td>\n",
       "      <td>1</td>\n",
       "      <td>22</td>\n",
       "      <td>96.621969</td>\n",
       "    </tr>\n",
       "    <tr>\n",
       "      <th>4677</th>\n",
       "      <td>52</td>\n",
       "      <td>79</td>\n",
       "      <td>2</td>\n",
       "      <td>23</td>\n",
       "      <td>146.839333</td>\n",
       "    </tr>\n",
       "    <tr>\n",
       "      <th>4678</th>\n",
       "      <td>61</td>\n",
       "      <td>95</td>\n",
       "      <td>2</td>\n",
       "      <td>24</td>\n",
       "      <td>179.915433</td>\n",
       "    </tr>\n",
       "    <tr>\n",
       "      <th>4679</th>\n",
       "      <td>90</td>\n",
       "      <td>123</td>\n",
       "      <td>3</td>\n",
       "      <td>25</td>\n",
       "      <td>248.746773</td>\n",
       "    </tr>\n",
       "  </tbody>\n",
       "</table>\n",
       "<p>1630 rows × 5 columns</p>\n",
       "</div>"
      ],
      "text/plain": [
       "       2B   BB  IBB  age          rc\n",
       "0       9   14    0   19   20.037736\n",
       "1      36   75   12   20  101.282742\n",
       "2      66  131   14   21  188.534296\n",
       "3      88  159   15   22  249.456418\n",
       "4     114  196   19   23  326.005157\n",
       "...   ...  ...  ...  ...         ...\n",
       "4675    8   16    1   21   32.431953\n",
       "4676   34   49    1   22   96.621969\n",
       "4677   52   79    2   23  146.839333\n",
       "4678   61   95    2   24  179.915433\n",
       "4679   90  123    3   25  248.746773\n",
       "\n",
       "[1630 rows x 5 columns]"
      ]
     },
     "execution_count": 34,
     "metadata": {},
     "output_type": "execute_result"
    }
   ],
   "source": [
    "X[X.columns[lsvc_model.get_support()]]"
   ]
  },
  {
   "cell_type": "code",
   "execution_count": 35,
   "metadata": {
    "scrolled": false
   },
   "outputs": [
    {
     "name": "stdout",
     "output_type": "stream",
     "text": [
      "DecisionTree > feature importances : \n",
      " [0.00877448 0.02290218 0.00514513 0.00945349 0.00291116 0.01748937\n",
      " 0.02235243 0.02600785 0.02698373 0.02546901 0.00866199 0.02631863\n",
      " 0.04125685 0.0117493  0.01787449 0.01752958 0.01225783 0.00997178\n",
      " 0.0229642  0.005192   0.02443579 0.00910411 0.6098008  0.0153938 ]\n"
     ]
    },
    {
     "data": {
      "image/png": "[encoded data removed]",
      "text/plain": [
       "<Figure size 432x288 with 1 Axes>"
      ]
     },
     "metadata": {
      "needs_background": "light"
     },
     "output_type": "display_data"
    },
    {
     "name": "stdout",
     "output_type": "stream",
     "text": [
      "RandomForest > feature importances : \n",
      " [0.02291825 0.06206335 0.05851979 0.06870661 0.09740392 0.08354695\n",
      " 0.01683212 0.05788429 0.08509367 0.02066767 0.01560543 0.03112117\n",
      " 0.04077425 0.02405936 0.01903528 0.01488663 0.02284836 0.01656788\n",
      " 0.01339598 0.02322735 0.02048259 0.01833283 0.14713403 0.01889224]\n"
     ]
    },
    {
     "data": {
      "image/png": "[encoded data removed]",
      "text/plain": [
       "<Figure size 432x288 with 1 Axes>"
      ]
     },
     "metadata": {
      "needs_background": "light"
     },
     "output_type": "display_data"
    },
    {
     "name": "stdout",
     "output_type": "stream",
     "text": [
      "ExtraTrees > feature importances : \n",
      " [0.03012684 0.04380951 0.06420787 0.06775348 0.06993356 0.06156814\n",
      " 0.01908775 0.05145215 0.06833167 0.02179167 0.02604954 0.07173749\n",
      " 0.05470297 0.0276652  0.0264269  0.01875704 0.03888495 0.0447654\n",
      " 0.02611139 0.02249637 0.02303631 0.01790333 0.08398463 0.01941582]\n"
     ]
    },
    {
     "data": {
      "image/png": "[encoded data removed]",
      "text/plain": [
       "<Figure size 432x288 with 1 Axes>"
      ]
     },
     "metadata": {
      "needs_background": "light"
     },
     "output_type": "display_data"
    }
   ],
   "source": [
    "from sklearn.tree import DecisionTreeClassifier\n",
    "from sklearn.ensemble import RandomForestClassifier \n",
    "from sklearn.ensemble import ExtraTreesClassifier\n",
    "\n",
    "model = [DecisionTreeClassifier(), \n",
    "         RandomForestClassifier(n_estimators=100),\n",
    "         ExtraTreesClassifier(n_estimators=100)]  \n",
    "\n",
    "model = [model[i].fit(X,y) for i in range(len(model))]\n",
    "\n",
    "num_chr = [12, 12, 10]\n",
    "# Use the inbuilt feature_importances_ of tree-based classifiers\n",
    "# to plot graphs of feature importances for data visualization\n",
    "for i in range(len(model)):\n",
    "    print(str(model[i])[:num_chr[i]] + ' > feature importances : \\n', \n",
    "          model[i].feature_importances_) \n",
    "    feat_importances = pd.Series(model[i].feature_importances_, \n",
    "                                 index=X.columns)\n",
    "    feat_importances.nlargest(10).plot.barh()#.get_figure().savefig('importance{}'.format(i))\n",
    "    # plt.xlim(0, 0.7)\n",
    "    plt.show()"
   ]
  },
  {
   "cell_type": "code",
   "execution_count": 36,
   "metadata": {
    "scrolled": true
   },
   "outputs": [
    {
     "data": {
      "text/plain": [
       "Index(['stint', 'G', 'AB', 'R', 'H', '2B', '3B', 'HR', 'RBI', 'SB', 'CS', 'BB',\n",
       "       'SO', 'IBB', 'HBP', 'SH', 'SF', 'GIDP', 'age', 'woba', 'slg', 'obp',\n",
       "       'rc', 'avg'],\n",
       "      dtype='object')"
      ]
     },
     "execution_count": 36,
     "metadata": {},
     "output_type": "execute_result"
    }
   ],
   "source": [
    "X.columns"
   ]
  },
  {
   "cell_type": "code",
   "execution_count": 37,
   "metadata": {
    "scrolled": true
   },
   "outputs": [
    {
     "data": {
      "text/html": [
       "<div>\n",
       "<style scoped>\n",
       "    .dataframe tbody tr th:only-of-type {\n",
       "        vertical-align: middle;\n",
       "    }\n",
       "\n",
       "    .dataframe tbody tr th {\n",
       "        vertical-align: top;\n",
       "    }\n",
       "\n",
       "    .dataframe thead th {\n",
       "        text-align: right;\n",
       "    }\n",
       "</style>\n",
       "<table border=\"1\" class=\"dataframe\">\n",
       "  <thead>\n",
       "    <tr style=\"text-align: right;\">\n",
       "      <th></th>\n",
       "      <th>stint</th>\n",
       "      <th>G</th>\n",
       "      <th>AB</th>\n",
       "      <th>R</th>\n",
       "      <th>H</th>\n",
       "      <th>2B</th>\n",
       "      <th>3B</th>\n",
       "      <th>HR</th>\n",
       "      <th>RBI</th>\n",
       "      <th>SB</th>\n",
       "      <th>...</th>\n",
       "      <th>HBP</th>\n",
       "      <th>SH</th>\n",
       "      <th>SF</th>\n",
       "      <th>GIDP</th>\n",
       "      <th>age</th>\n",
       "      <th>woba</th>\n",
       "      <th>slg</th>\n",
       "      <th>obp</th>\n",
       "      <th>rc</th>\n",
       "      <th>avg</th>\n",
       "    </tr>\n",
       "  </thead>\n",
       "  <tbody>\n",
       "    <tr>\n",
       "      <th>0</th>\n",
       "      <td>1</td>\n",
       "      <td>77</td>\n",
       "      <td>195</td>\n",
       "      <td>18</td>\n",
       "      <td>42</td>\n",
       "      <td>9</td>\n",
       "      <td>0</td>\n",
       "      <td>7</td>\n",
       "      <td>22</td>\n",
       "      <td>3</td>\n",
       "      <td>...</td>\n",
       "      <td>3</td>\n",
       "      <td>2</td>\n",
       "      <td>0</td>\n",
       "      <td>4</td>\n",
       "      <td>19</td>\n",
       "      <td>0.292594</td>\n",
       "      <td>0.369231</td>\n",
       "      <td>0.278302</td>\n",
       "      <td>20.037736</td>\n",
       "      <td>0.215385</td>\n",
       "    </tr>\n",
       "    <tr>\n",
       "      <th>1</th>\n",
       "      <td>2</td>\n",
       "      <td>229</td>\n",
       "      <td>733</td>\n",
       "      <td>102</td>\n",
       "      <td>190</td>\n",
       "      <td>36</td>\n",
       "      <td>5</td>\n",
       "      <td>22</td>\n",
       "      <td>89</td>\n",
       "      <td>21</td>\n",
       "      <td>...</td>\n",
       "      <td>9</td>\n",
       "      <td>6</td>\n",
       "      <td>5</td>\n",
       "      <td>8</td>\n",
       "      <td>20</td>\n",
       "      <td>0.327301</td>\n",
       "      <td>0.412005</td>\n",
       "      <td>0.333333</td>\n",
       "      <td>101.282742</td>\n",
       "      <td>0.259209</td>\n",
       "    </tr>\n",
       "    <tr>\n",
       "      <th>2</th>\n",
       "      <td>3</td>\n",
       "      <td>367</td>\n",
       "      <td>1243</td>\n",
       "      <td>173</td>\n",
       "      <td>338</td>\n",
       "      <td>66</td>\n",
       "      <td>7</td>\n",
       "      <td>42</td>\n",
       "      <td>174</td>\n",
       "      <td>33</td>\n",
       "      <td>...</td>\n",
       "      <td>11</td>\n",
       "      <td>9</td>\n",
       "      <td>9</td>\n",
       "      <td>21</td>\n",
       "      <td>21</td>\n",
       "      <td>0.344116</td>\n",
       "      <td>0.437651</td>\n",
       "      <td>0.344333</td>\n",
       "      <td>188.534296</td>\n",
       "      <td>0.271923</td>\n",
       "    </tr>\n",
       "    <tr>\n",
       "      <th>3</th>\n",
       "      <td>4</td>\n",
       "      <td>493</td>\n",
       "      <td>1718</td>\n",
       "      <td>232</td>\n",
       "      <td>464</td>\n",
       "      <td>88</td>\n",
       "      <td>11</td>\n",
       "      <td>55</td>\n",
       "      <td>234</td>\n",
       "      <td>46</td>\n",
       "      <td>...</td>\n",
       "      <td>16</td>\n",
       "      <td>11</td>\n",
       "      <td>14</td>\n",
       "      <td>30</td>\n",
       "      <td>22</td>\n",
       "      <td>0.336855</td>\n",
       "      <td>0.430151</td>\n",
       "      <td>0.335081</td>\n",
       "      <td>249.456418</td>\n",
       "      <td>0.270081</td>\n",
       "    </tr>\n",
       "    <tr>\n",
       "      <th>4</th>\n",
       "      <td>5</td>\n",
       "      <td>652</td>\n",
       "      <td>2305</td>\n",
       "      <td>302</td>\n",
       "      <td>615</td>\n",
       "      <td>114</td>\n",
       "      <td>16</td>\n",
       "      <td>76</td>\n",
       "      <td>309</td>\n",
       "      <td>53</td>\n",
       "      <td>...</td>\n",
       "      <td>20</td>\n",
       "      <td>12</td>\n",
       "      <td>20</td>\n",
       "      <td>47</td>\n",
       "      <td>23</td>\n",
       "      <td>0.332566</td>\n",
       "      <td>0.429067</td>\n",
       "      <td>0.327037</td>\n",
       "      <td>326.005157</td>\n",
       "      <td>0.266811</td>\n",
       "    </tr>\n",
       "    <tr>\n",
       "      <th>...</th>\n",
       "      <td>...</td>\n",
       "      <td>...</td>\n",
       "      <td>...</td>\n",
       "      <td>...</td>\n",
       "      <td>...</td>\n",
       "      <td>...</td>\n",
       "      <td>...</td>\n",
       "      <td>...</td>\n",
       "      <td>...</td>\n",
       "      <td>...</td>\n",
       "      <td>...</td>\n",
       "      <td>...</td>\n",
       "      <td>...</td>\n",
       "      <td>...</td>\n",
       "      <td>...</td>\n",
       "      <td>...</td>\n",
       "      <td>...</td>\n",
       "      <td>...</td>\n",
       "      <td>...</td>\n",
       "      <td>...</td>\n",
       "      <td>...</td>\n",
       "    </tr>\n",
       "    <tr>\n",
       "      <th>4675</th>\n",
       "      <td>1</td>\n",
       "      <td>43</td>\n",
       "      <td>150</td>\n",
       "      <td>26</td>\n",
       "      <td>44</td>\n",
       "      <td>8</td>\n",
       "      <td>4</td>\n",
       "      <td>9</td>\n",
       "      <td>25</td>\n",
       "      <td>7</td>\n",
       "      <td>...</td>\n",
       "      <td>3</td>\n",
       "      <td>2</td>\n",
       "      <td>0</td>\n",
       "      <td>0</td>\n",
       "      <td>21</td>\n",
       "      <td>0.415161</td>\n",
       "      <td>0.580000</td>\n",
       "      <td>0.372781</td>\n",
       "      <td>32.431953</td>\n",
       "      <td>0.293333</td>\n",
       "    </tr>\n",
       "    <tr>\n",
       "      <th>4676</th>\n",
       "      <td>2</td>\n",
       "      <td>168</td>\n",
       "      <td>644</td>\n",
       "      <td>99</td>\n",
       "      <td>179</td>\n",
       "      <td>34</td>\n",
       "      <td>7</td>\n",
       "      <td>20</td>\n",
       "      <td>73</td>\n",
       "      <td>20</td>\n",
       "      <td>...</td>\n",
       "      <td>8</td>\n",
       "      <td>4</td>\n",
       "      <td>2</td>\n",
       "      <td>9</td>\n",
       "      <td>22</td>\n",
       "      <td>0.344991</td>\n",
       "      <td>0.445652</td>\n",
       "      <td>0.335704</td>\n",
       "      <td>96.621969</td>\n",
       "      <td>0.277950</td>\n",
       "    </tr>\n",
       "    <tr>\n",
       "      <th>4677</th>\n",
       "      <td>3</td>\n",
       "      <td>275</td>\n",
       "      <td>1045</td>\n",
       "      <td>140</td>\n",
       "      <td>281</td>\n",
       "      <td>52</td>\n",
       "      <td>10</td>\n",
       "      <td>31</td>\n",
       "      <td>119</td>\n",
       "      <td>29</td>\n",
       "      <td>...</td>\n",
       "      <td>15</td>\n",
       "      <td>5</td>\n",
       "      <td>5</td>\n",
       "      <td>17</td>\n",
       "      <td>23</td>\n",
       "      <td>0.333910</td>\n",
       "      <td>0.426794</td>\n",
       "      <td>0.327797</td>\n",
       "      <td>146.839333</td>\n",
       "      <td>0.268900</td>\n",
       "    </tr>\n",
       "    <tr>\n",
       "      <th>4678</th>\n",
       "      <td>4</td>\n",
       "      <td>345</td>\n",
       "      <td>1304</td>\n",
       "      <td>167</td>\n",
       "      <td>345</td>\n",
       "      <td>61</td>\n",
       "      <td>10</td>\n",
       "      <td>43</td>\n",
       "      <td>157</td>\n",
       "      <td>29</td>\n",
       "      <td>...</td>\n",
       "      <td>20</td>\n",
       "      <td>5</td>\n",
       "      <td>7</td>\n",
       "      <td>17</td>\n",
       "      <td>24</td>\n",
       "      <td>0.331910</td>\n",
       "      <td>0.425613</td>\n",
       "      <td>0.322581</td>\n",
       "      <td>179.915433</td>\n",
       "      <td>0.264571</td>\n",
       "    </tr>\n",
       "    <tr>\n",
       "      <th>4679</th>\n",
       "      <td>5</td>\n",
       "      <td>494</td>\n",
       "      <td>1866</td>\n",
       "      <td>231</td>\n",
       "      <td>491</td>\n",
       "      <td>90</td>\n",
       "      <td>13</td>\n",
       "      <td>59</td>\n",
       "      <td>217</td>\n",
       "      <td>34</td>\n",
       "      <td>...</td>\n",
       "      <td>25</td>\n",
       "      <td>8</td>\n",
       "      <td>11</td>\n",
       "      <td>25</td>\n",
       "      <td>25</td>\n",
       "      <td>0.325827</td>\n",
       "      <td>0.420150</td>\n",
       "      <td>0.315556</td>\n",
       "      <td>248.746773</td>\n",
       "      <td>0.263130</td>\n",
       "    </tr>\n",
       "  </tbody>\n",
       "</table>\n",
       "<p>1630 rows × 24 columns</p>\n",
       "</div>"
      ],
      "text/plain": [
       "      stint    G    AB    R    H   2B  3B  HR  RBI  SB  ...  HBP  SH  SF  \\\n",
       "0         1   77   195   18   42    9   0   7   22   3  ...    3   2   0   \n",
       "1         2  229   733  102  190   36   5  22   89  21  ...    9   6   5   \n",
       "2         3  367  1243  173  338   66   7  42  174  33  ...   11   9   9   \n",
       "3         4  493  1718  232  464   88  11  55  234  46  ...   16  11  14   \n",
       "4         5  652  2305  302  615  114  16  76  309  53  ...   20  12  20   \n",
       "...     ...  ...   ...  ...  ...  ...  ..  ..  ...  ..  ...  ...  ..  ..   \n",
       "4675      1   43   150   26   44    8   4   9   25   7  ...    3   2   0   \n",
       "4676      2  168   644   99  179   34   7  20   73  20  ...    8   4   2   \n",
       "4677      3  275  1045  140  281   52  10  31  119  29  ...   15   5   5   \n",
       "4678      4  345  1304  167  345   61  10  43  157  29  ...   20   5   7   \n",
       "4679      5  494  1866  231  491   90  13  59  217  34  ...   25   8  11   \n",
       "\n",
       "      GIDP  age      woba       slg       obp          rc       avg  \n",
       "0        4   19  0.292594  0.369231  0.278302   20.037736  0.215385  \n",
       "1        8   20  0.327301  0.412005  0.333333  101.282742  0.259209  \n",
       "2       21   21  0.344116  0.437651  0.344333  188.534296  0.271923  \n",
       "3       30   22  0.336855  0.430151  0.335081  249.456418  0.270081  \n",
       "4       47   23  0.332566  0.429067  0.327037  326.005157  0.266811  \n",
       "...    ...  ...       ...       ...       ...         ...       ...  \n",
       "4675     0   21  0.415161  0.580000  0.372781   32.431953  0.293333  \n",
       "4676     9   22  0.344991  0.445652  0.335704   96.621969  0.277950  \n",
       "4677    17   23  0.333910  0.426794  0.327797  146.839333  0.268900  \n",
       "4678    17   24  0.331910  0.425613  0.322581  179.915433  0.264571  \n",
       "4679    25   25  0.325827  0.420150  0.315556  248.746773  0.263130  \n",
       "\n",
       "[1630 rows x 24 columns]"
      ]
     },
     "execution_count": 37,
     "metadata": {},
     "output_type": "execute_result"
    }
   ],
   "source": [
    "X_features = X\n",
    "X_features"
   ]
  },
  {
   "cell_type": "code",
   "execution_count": 38,
   "metadata": {},
   "outputs": [],
   "source": [
    "# z-score Standardization\n",
    "from sklearn.preprocessing import StandardScaler\n",
    "standard_scaler = StandardScaler()\n",
    "Xn = standard_scaler.fit_transform(X_features)#np.array"
   ]
  },
  {
   "cell_type": "code",
   "execution_count": 39,
   "metadata": {},
   "outputs": [],
   "source": [
    "# Split the dataset with 85% for training data\n",
    "from sklearn.model_selection import train_test_split\n",
    "X1, X2, y1, y2 = train_test_split(Xn, y, random_state=0,\n",
    "                                  train_size=0.85, test_size=0.15)"
   ]
  },
  {
   "cell_type": "code",
   "execution_count": 40,
   "metadata": {
    "scrolled": false
   },
   "outputs": [
    {
     "name": "stderr",
     "output_type": "stream",
     "text": [
      "C:\\Users\\ASUS\\anaconda3\\envs\\tensorflow2\\lib\\site-packages\\sklearn\\linear_model\\_logistic.py:763: ConvergenceWarning: lbfgs failed to converge (status=1):\n",
      "STOP: TOTAL NO. of ITERATIONS REACHED LIMIT.\n",
      "\n",
      "Increase the number of iterations (max_iter) or scale the data as shown in:\n",
      "    https://scikit-learn.org/stable/modules/preprocessing.html\n",
      "Please also refer to the documentation for alternative solver options:\n",
      "    https://scikit-learn.org/stable/modules/linear_model.html#logistic-regression\n",
      "  n_iter_i = _check_optimize_result(\n",
      "C:\\Users\\ASUS\\anaconda3\\envs\\tensorflow2\\lib\\site-packages\\xgboost\\sklearn.py:888: UserWarning: The use of label encoder in XGBClassifier is deprecated and will be removed in a future release. To remove this warning, do the following: 1) Pass option use_label_encoder=False when constructing XGBClassifier object; and 2) Encode your labels (y) as integers starting with 0, i.e. 0, 1, 2, ..., [num_class - 1].\n",
      "  warnings.warn(label_encoder_deprecation_msg, UserWarning)\n"
     ]
    },
    {
     "name": "stdout",
     "output_type": "stream",
     "text": [
      "[10:07:41] WARNING: ..\\src\\learner.cc:1061: Starting in XGBoost 1.3.0, the default evaluation metric used with the objective 'multi:softprob' was changed from 'merror' to 'mlogloss'. Explicitly set eval_metric if you'd like to restore the old behavior.\n"
     ]
    }
   ],
   "source": [
    "from sklearn.linear_model import LogisticRegression\n",
    "from sklearn.ensemble import AdaBoostClassifier\n",
    "from sklearn.ensemble import GradientBoostingClassifier\n",
    "from xgboost import XGBClassifier\n",
    "\n",
    "model = [LogisticRegression(random_state=1),\n",
    "         DecisionTreeClassifier(random_state=1), \n",
    "         RandomForestClassifier(n_estimators=100, random_state=1),\n",
    "         ExtraTreesClassifier(n_estimators=300, random_state=1),\n",
    "         AdaBoostClassifier(n_estimators=10, random_state=1),\n",
    "         GradientBoostingClassifier(n_estimators=300, random_state=1),\n",
    "         XGBClassifier(n_estimators=300, random_state=1)]\n",
    "\n",
    "model = [model[i].fit(X1,y1) for i in range(len(model))]\n",
    "pred  = [model[i].predict(X2) for i in range(len(model))]"
   ]
  },
  {
   "cell_type": "code",
   "execution_count": 41,
   "metadata": {},
   "outputs": [
    {
     "name": "stdout",
     "output_type": "stream",
     "text": [
      "Logistic: \t 0.8693877551020408\n",
      "Decision: \t 0.8204081632653061\n",
      "RandomForest: \t 0.8653061224489796\n",
      "ExtraTrees: \t 0.8653061224489796\n",
      "AdaBoost: \t 0.8326530612244898\n",
      "Gradient: \t 0.8571428571428571\n",
      "XGBClass: \t 0.8653061224489796\n"
     ]
    }
   ],
   "source": [
    "from sklearn.metrics import accuracy_score\n",
    "acc = [accuracy_score(y2, pred[i]) for i in range(len(model))]\n",
    "\n",
    "num_chr = [8, 8, 12, 10, 8, 8, 8]\n",
    "for i in range(len(model)):\n",
    "    print(str(model[i])[:num_chr[i]] + ': \\t', acc[i]) "
   ]
  },
  {
   "cell_type": "code",
   "execution_count": 42,
   "metadata": {},
   "outputs": [
    {
     "data": {
      "text/plain": [
       "0.8693877551020408"
      ]
     },
     "execution_count": 42,
     "metadata": {},
     "output_type": "execute_result"
    }
   ],
   "source": [
    "# voting\n",
    "from sklearn.ensemble import VotingClassifier\n",
    "\n",
    "clf1 = AdaBoostClassifier()\n",
    "clf2 = ExtraTreesClassifier()\n",
    "clf3 = RandomForestClassifier()\n",
    "\n",
    "vote = VotingClassifier(estimators=[('lr', clf1), ('rf', clf2), ('gnb', clf3)]).fit(X1, y1)\n",
    "vote.score(X2,y2)"
   ]
  },
  {
   "cell_type": "code",
   "execution_count": 43,
   "metadata": {},
   "outputs": [
    {
     "data": {
      "text/plain": [
       "0.8775510204081632"
      ]
     },
     "execution_count": 43,
     "metadata": {},
     "output_type": "execute_result"
    }
   ],
   "source": [
    "# stacking \n",
    "from sklearn.ensemble import StackingClassifier\n",
    "\n",
    "clf1 = GradientBoostingClassifier()\n",
    "clf2 = ExtraTreesClassifier()\n",
    "clf3 = RandomForestClassifier()\n",
    "\n",
    "clf = StackingClassifier(estimators=[('lr', clf1), ('rf', clf2), ('gnb', clf3)]).fit(X1, y1)\n",
    "clf.score(X2,y2)"
   ]
  },
  {
   "cell_type": "code",
   "execution_count": 44,
   "metadata": {},
   "outputs": [
    {
     "data": {
      "image/png": "[encoded data removed]",
      "text/plain": [
       "<Figure size 432x288 with 2 Axes>"
      ]
     },
     "metadata": {
      "needs_background": "light"
     },
     "output_type": "display_data"
    }
   ],
   "source": [
    "from sklearn.metrics import confusion_matrix\n",
    "mat = confusion_matrix(y2, vote.predict(X2))\n",
    "sns.heatmap(mat, square=True, annot=True, cbar=True)\n",
    "plt.xlabel('predicted value')\n",
    "plt.ylabel('true value');"
   ]
  },
  {
   "cell_type": "raw",
   "metadata": {},
   "source": [
    "# bagging\n",
    "from sklearn.ensemble import BaggingClassifier\n",
    "\n",
    "clf = BaggingClassifier(n_estimators=100, random_state=1).fit(X1, y1)\n",
    "\n",
    "clf.score(X2,y2)"
   ]
  },
  {
   "cell_type": "code",
   "execution_count": 45,
   "metadata": {
    "scrolled": false
   },
   "outputs": [
    {
     "name": "stdout",
     "output_type": "stream",
     "text": [
      "Logistic: \t 0.8693877551020408\n",
      "Decision: \t 0.8204081632653061\n",
      "RandomForest: \t 0.8653061224489796\n",
      "ExtraTrees: \t 0.8653061224489796\n",
      "AdaBoost: \t 0.8326530612244898\n",
      "Gradient: \t 0.8571428571428571\n",
      "XGBClass: \t 0.8653061224489796\n"
     ]
    },
    {
     "data": {
      "image/png": "[encoded data removed]",
      "text/plain": [
       "<Figure size 720x720 with 14 Axes>"
      ]
     },
     "metadata": {
      "needs_background": "light"
     },
     "output_type": "display_data"
    }
   ],
   "source": [
    "n_clf = len(model)\n",
    "clfs = [str(model[i])[:num_chr[i]] \n",
    "                    for i in range(n_clf)]\n",
    "\n",
    "# Compute the confusion matrix...\n",
    "from sklearn.metrics import confusion_matrix\n",
    "mat = [confusion_matrix(y2, pred[i]) for i in range(n_clf)]\n",
    "\n",
    "# Plot the confusion matrix as a color-encoded matrix...\n",
    "# set up the figure\n",
    "fig = plt.figure(figsize=(10, 10))  # figure size in inches\n",
    "fig.subplots_adjust(left=0, right=1, bottom=0, top=1, \n",
    "                    hspace=0.35, wspace=0.1)\n",
    "\n",
    "# plot the confusion matrices\n",
    "for i in range(n_clf):\n",
    "    sns.set(font_scale=1.2)\n",
    "    fig.add_subplot(3, n_clf//2, i + 1, xticks=[], yticks=[])\n",
    "    print(str(model[i])[:num_chr[i]] + ': \\t', acc[i])\n",
    "    sns.heatmap(mat[i], square=True, annot=True, cbar=True)\n",
    "    plt.ylim(4, 0)\n",
    "    plt.title(clfs[i])\n",
    "    plt.xlabel('predicted value')\n",
    "    plt.ylabel('true value');"
   ]
  }
 ],
 "metadata": {
  "kernelspec": {
   "display_name": "Python 3",
   "language": "python",
   "name": "python3"
  },
  "language_info": {
   "codemirror_mode": {
    "name": "ipython",
    "version": 3
   },
   "file_extension": ".py",
   "mimetype": "text/x-python",
   "name": "python",
   "nbconvert_exporter": "python",
   "pygments_lexer": "ipython3",
   "version": "3.8.5"
  }
 },
 "nbformat": 4,
 "nbformat_minor": 2
}
