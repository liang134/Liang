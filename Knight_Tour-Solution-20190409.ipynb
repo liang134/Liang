{
 "cells": [
  {
   "cell_type": "markdown",
   "metadata": {},
   "source": [
    "## Knight's Tour Problem - WARNSDORFF algorithm with dynamic degree-updating"
   ]
  },
  {
   "cell_type": "code",
   "execution_count": 1,
   "metadata": {},
   "outputs": [],
   "source": [
    "cb =[2,3,4,4,4,4,3,2,\n",
    "     3,4,6,6,6,6,4,3,\n",
    "     4,6,8,8,8,8,6,4,\n",
    "     4,6,8,8,8,8,6,4,\n",
    "     4,6,8,8,8,8,6,4,\n",
    "     4,6,8,8,8,8,6,4,\n",
    "     3,4,6,6,6,6,4,3,\n",
    "     2,3,4,4,4,4,3,2]\n"
   ]
  },
  {
   "cell_type": "code",
   "execution_count": 6,
   "metadata": {},
   "outputs": [
    {
     "data": {
      "text/plain": [
       "[[2, 3, 4, 4, 4, 4, 3, 2],\n",
       " [3, 4, 6, 6, 6, 6, 4, 3],\n",
       " [4, 6, 8, 8, 8, 8, 6, 4],\n",
       " [4, 6, 8, 8, 8, 8, 6, 4],\n",
       " [4, 6, 8, 8, 8, 8, 6, 4],\n",
       " [4, 6, 8, 8, 8, 8, 6, 4],\n",
       " [3, 4, 6, 6, 6, 6, 4, 3],\n",
       " [2, 3, 4, 4, 4, 4, 3, 2]]"
      ]
     },
     "execution_count": 6,
     "metadata": {},
     "output_type": "execute_result"
    }
   ],
   "source": [
    "[[d for d in cb[i*8:i*8+8]]for i in range(8)]"
   ]
  },
  {
   "cell_type": "code",
   "execution_count": 4,
   "metadata": {},
   "outputs": [
    {
     "data": {
      "text/plain": [
       "3"
      ]
     },
     "execution_count": 4,
     "metadata": {},
     "output_type": "execute_result"
    }
   ],
   "source": [
    "cb[8]"
   ]
  },
  {
   "cell_type": "code",
   "execution_count": null,
   "metadata": {},
   "outputs": [],
   "source": []
  },
  {
   "cell_type": "code",
   "execution_count": null,
   "metadata": {},
   "outputs": [],
   "source": []
  },
  {
   "cell_type": "code",
   "execution_count": null,
   "metadata": {},
   "outputs": [],
   "source": []
  },
  {
   "cell_type": "code",
   "execution_count": null,
   "metadata": {},
   "outputs": [],
   "source": []
  },
  {
   "cell_type": "code",
   "execution_count": 15,
   "metadata": {},
   "outputs": [],
   "source": [
    "# Knight's Tour Problem - WARNSDORFF algorithm with dynamic degree-updating\n",
    "def knightTour(ni, nj, xi, xj):\n",
    "    # Creating a degree map by the WARNSDORFF rules...\n",
    "    degree_map = [2,3,4,4,4,4,4,3,2,\n",
    "                  3,4,6,6,6,6,6,4,3,\n",
    "                  4,6,8,8,8,8,8,6,4,\n",
    "                  4,6,8,8,8,8,8,6,4,\n",
    "                  4,6,8,8,8,8,8,6,4,\n",
    "                  4,6,8,8,8,8,8,6,4,\n",
    "                  4,6,8,8,8,8,8,6,4,\n",
    "                  3,4,6,6,6,6,6,4,3,\n",
    "                  2,3,4,4,4,4,4,3,2]\n",
    "    # knight_map = degree_map\n",
    "    \n",
    "    for i in range(ni*nj):\n",
    "        if i%9 < 8:\n",
    "            print(degree_map[i], end=' ')\n",
    "        else: \n",
    "            print(degree_map[i])\n",
    "\n",
    "    # Creating the 8 possible moves...\n",
    "    eight_moves = [(1,-2),(2,-1),(2,1),(1,2),(-1,2),(-2,1),(-2,-1),(-1,-2)]\n",
    "    for i in range(8):\n",
    "        print(eight_moves[i], end=' ')\n",
    "    print('\\n')\n",
    "    \n",
    "    # Initiating the start position of Knight...\n",
    "    knight_move = ni*nj\n",
    "\n",
    "    # Looping for finding the Hamiltonian Path for Knight’s Tour...\n",
    "    for _ in range(knight_move-1):\n",
    "        if knight_move == ni*nj:\n",
    "            degree_map[xi*9+xj] = knight_move\n",
    "\n",
    "        # Checking if the moves within the board boundaries or not...\n",
    "        OK_moves = []\n",
    "        for i in range(8):\n",
    "            (test_i, test_j) = (xi + eight_moves[i][0], xj + eight_moves[i][1])\n",
    "            if test_i >= 0 and test_j >= 0 and test_i <= 8 and test_j <= 8:\n",
    "                OK_moves.append((test_i, test_j))\n",
    "        # print(OK_moves)\n",
    "\n",
    "        # Finding the next position for Knight's movement...\n",
    "        count = 0\n",
    "        for ti,tj in OK_moves:\n",
    "            # print(degree_map[ti*8+tj], end=' ')\n",
    "            if degree_map[ti*9+tj] >= ni*nj:\n",
    "                continue\n",
    "            elif count == 0:\n",
    "                temp = ti, tj, degree_map[ti*9+tj]\n",
    "                count += 1\n",
    "            elif degree_map[ti*9+tj] < temp[2]:\n",
    "                temp = ti, tj, degree_map[ti*9+tj]\n",
    "        # print(temp)\n",
    "        \n",
    "        # Updating the degree map and the new move...\n",
    "        for ti,tj in OK_moves:\n",
    "            if degree_map[ti*9+tj] >= ni*nj:\n",
    "                continue\n",
    "            else: \n",
    "                degree_map[ti*9+tj] -= 1\n",
    "\n",
    "        knight_move += 1\n",
    "        degree_map[temp[0]*9+temp[1]] = knight_move\n",
    "        xi, xj = temp[0], temp[1]\n",
    "        # print(degree_map[temp[0]*8+temp[1]], xi, xj, temp[2])\n",
    "    \n",
    "    # Print out the Hamiltonian Path for Knight’s Tour...\n",
    "    for i in range(ni*nj):\n",
    "        if i%9 < 8:\n",
    "            print('{0:3d}'.format(degree_map[i]-ni*nj+1), end=' ')\n",
    "        else: \n",
    "            print('{0:3d}'.format(degree_map[i]-ni*nj+1))    \n",
    "    "
   ]
  },
  {
   "cell_type": "code",
   "execution_count": 17,
   "metadata": {},
   "outputs": [
    {
     "name": "stdout",
     "output_type": "stream",
     "text": [
      "2 3 4 4 4 4 4 3 2\n",
      "3 4 6 6 6 6 6 4 3\n",
      "4 6 8 8 8 8 8 6 4\n",
      "4 6 8 8 8 8 8 6 4\n",
      "4 6 8 8 8 8 8 6 4\n",
      "4 6 8 8 8 8 8 6 4\n",
      "4 6 8 8 8 8 8 6 4\n",
      "3 4 6 6 6 6 6 4 3\n",
      "2 3 4 4 4 4 4 3 2\n",
      "(1, -2) (2, -1) (2, 1) (1, 2) (-1, 2) (-2, 1) (-2, -1) (-1, -2) \n",
      "\n",
      " 38  35  12  79  54  33  10  29  52\n",
      " 13  81  37  34  11 -80  53  32   9\n",
      " 36  39  74  71  78  55  30  51  28\n",
      " 73  14  77  56  75  64  69   8  31\n",
      " 40   1  72  65  70  59  62  27  50\n",
      " 15  66  57  76  63  68  49  60   7\n",
      "  2  41  18  67  58  61  24  47  26\n",
      " 19  16  43   4  21  48  45   6  23\n",
      " 42   3  20  17  44   5  22  25  46\n"
     ]
    }
   ],
   "source": [
    "knightTour(9,9,4,1)"
   ]
  }
 ],
 "metadata": {
  "kernelspec": {
   "display_name": "Python 3",
   "language": "python",
   "name": "python3"
  },
  "language_info": {
   "codemirror_mode": {
    "name": "ipython",
    "version": 3
   },
   "file_extension": ".py",
   "mimetype": "text/x-python",
   "name": "python",
   "nbconvert_exporter": "python",
   "pygments_lexer": "ipython3",
   "version": "3.6.5"
  }
 },
 "nbformat": 4,
 "nbformat_minor": 2
}
